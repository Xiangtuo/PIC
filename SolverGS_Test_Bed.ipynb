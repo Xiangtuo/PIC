{
 "cells": [
  {
   "cell_type": "code",
   "execution_count": 15,
   "metadata": {
    "collapsed": true
   },
   "outputs": [],
   "source": [
    "import math\n",
    "import numpy as np\n",
    "import scipy as sp\n",
    "from matplotlib import pyplot as plt \n",
    "import sys, os \n",
    "import time\n",
    "import csv\n",
    "%matplotlib inline"
   ]
  },
  {
   "cell_type": "code",
   "execution_count": 16,
   "metadata": {
    "collapsed": false
   },
   "outputs": [
    {
     "name": "stdout",
     "output_type": "stream",
     "text": [
      "2000 <class 'numpy.ndarray'> 409210.708836 1 0.00743259347017\n"
     ]
    }
   ],
   "source": [
    "# constants \n",
    "EPS0 = 8.85 * 10 ** -12\n",
    "QE = 1.602 * 10 ** -19 \n",
    "K = 1.381 * 10 ** -23 \n",
    "AMU = 1.661 * 10 ** -27\n",
    "MI = 40 * AMU #mass of an Ar+ ion \n",
    "\n",
    "#simulation inputs \n",
    "N = 2000 #max particles \n",
    "n0 = 1 * 10 ** 12 #density\n",
    "V_ref = 0 #reference potential \n",
    "Te = 1  #electron temperature in eV \n",
    "Ti = 0.1 #ion temperature in eV\n",
    "V_d = -5.1 #dust potential (use values from lit)\n",
    "v_drift = 7000\n",
    "tol = 1 * 10 ** -1\n",
    "iterations = 50\n",
    "\n",
    "\n",
    "#plasma parameters \n",
    "lambd_D = np.sqrt( EPS0 * Te /(n0 * QE) )\n",
    "vth = np.sqrt((2 * QE * Ti) / MI)\n",
    "v0 = 0.2 #stream velocity \n",
    "\n",
    "\n",
    "#domain parameters \n",
    "nx = 10\n",
    "ny = 10\n",
    "J = nx * ny \n",
    "dx = dy = dh = lambd_D\n",
    "Lx = nx * dx \n",
    "Ly = ny * dy \n",
    "dt = (0.1 * dx) / v_drift \n",
    "np_in = (ny-1) * 15 \n",
    "\n",
    "#specific weight \n",
    "flux = n0 * v_drift * Ly \n",
    "npt = flux * dt #particles created per timestep \n",
    "sw = npt / np_in #specific weight \n",
    "q_mp = 1 #macroparticle charge \n",
    "\n",
    "# particle arrays\n",
    "p_pos = np.zeros([N,2])\n",
    "p_velo = np.zeros([N,2])\n",
    "\n",
    "print(len(p_pos), type(p_pos), sw, q_mp, dh)"
   ]
  },
  {
   "cell_type": "code",
   "execution_count": 17,
   "metadata": {
    "collapsed": false
   },
   "outputs": [
    {
     "name": "stdout",
     "output_type": "stream",
     "text": [
      "Clocking in at 0.0007929999999998216 seconds\n"
     ]
    }
   ],
   "source": [
    "start = time.clock() # Keeping track of computational time \n",
    "\n",
    "def charge_depo(dh, NP, J):\n",
    "\n",
    "    q = np.zeros((nx, ny))\n",
    "    rho = np.zeros((ny, nx))\n",
    "\n",
    "    for p in range (1, NP): \n",
    "            \n",
    "            fi = (1 + p_pos[p,0]) / (dh) \n",
    "            i = np.floor(fi)\n",
    "            hx = fi - i  \n",
    "                \n",
    "            fj = (1 + p_pos[p,1]) / (dh)\n",
    "            j = np.floor(fj)\n",
    "            hy = fj - j \n",
    "                        \n",
    "            q[i,j] = q[i,j] + (1-hx) * (1-hy)\n",
    "            q[i+1, j] = q[i+1, j] + hx * (1-hy)\n",
    "            q[i, j+1] = q[i, j+1] + (1-hx) * hy \n",
    "            q[i+1, j+1] = q[i+1, j+1] + hx * hy \n",
    "            \n",
    "            rho = (sw + q_mp * q) / (dh * dh)\n",
    "                \n",
    "            rho[0,:] = 2 * rho[0,:]\n",
    "            rho[-1, :] = 2 * rho[-1, :]\n",
    "            rho[:, 0] = 2 * rho[:, 0]\n",
    "            rho[:, -1] = 2 * rho[:, -1]\n",
    "            \n",
    "            rho = rho + (1 * 10 ** 4)\n",
    "            #print(rho)\n",
    "    return q, rho \n",
    "\n",
    "print(\"Clocking in at %s seconds\"  % (time.clock() - start))"
   ]
  },
  {
   "cell_type": "code",
   "execution_count": 18,
   "metadata": {
    "collapsed": false
   },
   "outputs": [
    {
     "name": "stdout",
     "output_type": "stream",
     "text": [
      "Clocking in at 0.0004949999999999122 seconds\n"
     ]
    }
   ],
   "source": [
    "start = time.clock() # Keeping track of computational time \n",
    "\n",
    "#stencil array used in potential solver \n",
    "\n",
    "def stencil_fd(J, dx, dh, nx, ny):\n",
    "    \"\"\"Uses the finite difference scheme\"\"\"\n",
    "    #E = []\n",
    "    \n",
    "    #source = rho\n",
    "    M = np.zeros((J,J))\n",
    "    \n",
    "    for i in range (1, nx-1):\n",
    "        for j in range(1, ny-1): \n",
    "            u = (j-1) * nx + i\n",
    "            M[u, u] = -4. / (dh * dh) \n",
    "            M[u, u-1] = 1. / (dh * dh)\n",
    "            M[u, u+1] = 1. / (dh * dh)\n",
    "            M[u, u-nx] = 1. / (dh * dh)\n",
    "            M[u, u+ (nx-2)] = 1. / (dh * dh)    \n",
    "    \n",
    "    for i in range (0, nx):\n",
    "        u = i+1\n",
    "        M[u,u] = -1. / dh\n",
    "        M[u,u+nx] = 1. / dh \n",
    "        \n",
    "    for i in range (0,nx): \n",
    "        u = (ny-1) * nx  + i \n",
    "        M[u, u-nx] = 1. / dh\n",
    "        M[u, u] = -1. / dh \n",
    "        \n",
    "    for j in range (0, ny): \n",
    "        u = (j-1) * nx + nx \n",
    "        M[u, :] = np.zeros([1, J])\n",
    "        M[u, u-1] = 1. / dh \n",
    "        M[u, u] = -1. / dh \n",
    "        \n",
    "    for j in range(0, ny): \n",
    "        u = (j-1) * nx + 1 \n",
    "        M[u, :] = np.zeros([1, J])\n",
    "        M[u, u] = 1.     \n",
    "        \n",
    "    return M\n",
    "print(\"Clocking in at %s seconds\"  % (time.clock() - start))"
   ]
  },
  {
   "cell_type": "code",
   "execution_count": 19,
   "metadata": {
    "collapsed": false
   },
   "outputs": [
    {
     "name": "stdout",
     "output_type": "stream",
     "text": [
      "Clocking in at 0.00042100000000022675 seconds\n"
     ]
    }
   ],
   "source": [
    "start = time.clock() # Keeping track of computational time \n",
    "\n",
    "def solver_2d(rho, tol, Ti, n0, V_ref, QE, iterations): \n",
    "    'Uses Gauss Sidel method'\n",
    "        \n",
    "    M = stencil_fd(J, dx, dh, nx, ny)\n",
    "    V = np.ones((ny,nx)) * V_ref\n",
    "    \n",
    "    source = rho\n",
    "    NX = NY = np.size(source,1)\n",
    "    NN = np.size(source)\n",
    "    \n",
    "    b0 = np.reshape(source, (NN,1))\n",
    "    x = np.reshape(V, (np.size(V), 1))\n",
    "    \n",
    "    #print(np.size(x), np.size(b0))\n",
    "    \n",
    "    b = b0 - n0 * np.exp((x-V_ref)/ Ti)\n",
    "    b = b * QE / EPS0     \n",
    "    \n",
    "    for it in range (0, iterations):\n",
    "        \n",
    "        b[0:NX] = 0 \n",
    "        b[NN-NX+1 : NN] = 0 \n",
    "        b[NX: NX : NN] = 0 \n",
    "        b[1:NX:NN] = V_ref\n",
    "        \n",
    "        if it % 10 == 0:\n",
    "            R = np.linalg.norm(b-M*x)\n",
    "            \n",
    "            if R <= tol:\n",
    "                print('Solver converged!')\n",
    "            \n",
    "    if R > tol: \n",
    "        print('Solver failed to converge. Try tweaking your inputs.')\n",
    "    \n",
    "    V = np.reshape(x, (NX,NY))\n",
    "    \n",
    "    return V\n",
    "print(\"Clocking in at %s seconds\"  % (time.clock() - start))"
   ]
  },
  {
   "cell_type": "code",
   "execution_count": 21,
   "metadata": {
    "collapsed": false
   },
   "outputs": [
    {
     "name": "stdout",
     "output_type": "stream",
     "text": [
      "Solver failed to converge. Try tweaking your inputs.\n",
      "Solver failed to converge. Try tweaking your inputs.\n",
      "Solver failed to converge. Try tweaking your inputs.\n",
      "Solver failed to converge. Try tweaking your inputs.\n",
      "Solver failed to converge. Try tweaking your inputs.\n",
      "Solver failed to converge. Try tweaking your inputs.\n",
      "Solver failed to converge. Try tweaking your inputs.\n",
      "Solver failed to converge. Try tweaking your inputs.\n",
      "Solver failed to converge. Try tweaking your inputs.\n",
      "Solver failed to converge. Try tweaking your inputs.\n",
      "Solver failed to converge. Try tweaking your inputs.\n",
      "Solver failed to converge. Try tweaking your inputs.\n",
      "Solver failed to converge. Try tweaking your inputs.\n",
      "Solver failed to converge. Try tweaking your inputs.\n",
      "Solver failed to converge. Try tweaking your inputs.\n",
      "Solver failed to converge. Try tweaking your inputs.\n",
      "Solver failed to converge. Try tweaking your inputs.\n",
      "Solver failed to converge. Try tweaking your inputs.\n",
      "Solver failed to converge. Try tweaking your inputs.\n",
      "Solver failed to converge. Try tweaking your inputs.\n",
      "Solver failed to converge. Try tweaking your inputs.\n",
      "Solver failed to converge. Try tweaking your inputs.\n",
      "Solver failed to converge. Try tweaking your inputs.\n",
      "Solver failed to converge. Try tweaking your inputs.\n",
      "Solver failed to converge. Try tweaking your inputs.\n",
      "Solver failed to converge. Try tweaking your inputs.\n",
      "Solver failed to converge. Try tweaking your inputs.\n",
      "Solver failed to converge. Try tweaking your inputs.\n",
      "Solver failed to converge. Try tweaking your inputs.\n",
      "Solver failed to converge. Try tweaking your inputs.\n",
      "Solver failed to converge. Try tweaking your inputs.\n",
      "Solver failed to converge. Try tweaking your inputs.\n",
      "Solver failed to converge. Try tweaking your inputs.\n",
      "Solver failed to converge. Try tweaking your inputs.\n",
      "Solver failed to converge. Try tweaking your inputs.\n",
      "Solver failed to converge. Try tweaking your inputs.\n",
      "Solver failed to converge. Try tweaking your inputs.\n",
      "Solver failed to converge. Try tweaking your inputs.\n",
      "Solver failed to converge. Try tweaking your inputs.\n",
      "Solver failed to converge. Try tweaking your inputs.\n",
      "Solver failed to converge. Try tweaking your inputs.\n",
      "Solver failed to converge. Try tweaking your inputs.\n",
      "Solver failed to converge. Try tweaking your inputs.\n",
      "Solver failed to converge. Try tweaking your inputs.\n",
      "Solver failed to converge. Try tweaking your inputs.\n",
      "Solver failed to converge. Try tweaking your inputs.\n",
      "Solver failed to converge. Try tweaking your inputs.\n",
      "Solver failed to converge. Try tweaking your inputs.\n",
      "Solver failed to converge. Try tweaking your inputs.\n"
     ]
    }
   ],
   "source": [
    "NP = 1\n",
    "\n",
    "for it in range (1, iterations):\n",
    "    q, rho = charge_depo(dh, NP, J)\n",
    "    #print(rho, np.size(rho))    \n",
    "    V = solver_2d(rho, tol, Ti, n0, V_ref, QE, iterations)    "
   ]
  },
  {
   "cell_type": "code",
   "execution_count": null,
   "metadata": {
    "collapsed": true
   },
   "outputs": [],
   "source": []
  }
 ],
 "metadata": {
  "anaconda-cloud": {},
  "kernelspec": {
   "display_name": "Python [conda root]",
   "language": "python",
   "name": "conda-root-py"
  },
  "language_info": {
   "codemirror_mode": {
    "name": "ipython",
    "version": 3
   },
   "file_extension": ".py",
   "mimetype": "text/x-python",
   "name": "python",
   "nbconvert_exporter": "python",
   "pygments_lexer": "ipython3",
   "version": "3.5.2"
  }
 },
 "nbformat": 4,
 "nbformat_minor": 1
}
