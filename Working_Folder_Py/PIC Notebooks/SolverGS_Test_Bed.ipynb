{
 "cells": [
  {
   "cell_type": "code",
   "execution_count": 212,
   "metadata": {
    "collapsed": true
   },
   "outputs": [],
   "source": [
    "import math\n",
    "import numpy as np\n",
    "import scipy as sp\n",
    "from matplotlib import pyplot as plt \n",
    "import sys, os \n",
    "import time\n",
    "import csv\n",
    "%matplotlib inline"
   ]
  },
  {
   "cell_type": "code",
   "execution_count": 213,
   "metadata": {
    "collapsed": false
   },
   "outputs": [],
   "source": [
    "# constants \n",
    "EPS0 = 8.85 * 10 ** -12\n",
    "QE = 1.602 * 10 ** -19 \n",
    "K = 1.381 * 10 ** -23 \n",
    "AMU = 1.661 * 10 ** -27\n",
    "MI = 40 * AMU #mass of an Ar+ ion \n",
    "\n",
    "#simulation inputs \n",
    "N = 2000 #max particles \n",
    "n0 = 1 * 10 ** 12 #density\n",
    "V_ref = 0 #reference potential \n",
    "Te = 1  #electron temperature in eV \n",
    "Ti = 0.1 #ion temperature in eV\n",
    "V_d = -5.1 #dust potential (use values from lit)\n",
    "v_drift = 7000\n",
    "tol = 1 * 10 ** -1\n",
    "iterations = 5\n",
    "\n",
    "\n",
    "#plasma parameters \n",
    "lambd_D = np.sqrt( EPS0 * Te /(n0 * QE) )\n",
    "vth = np.sqrt((2 * QE * Ti) / MI)\n",
    "#v0 = 0.2 (stream velocity)  \n",
    "\n",
    "\n",
    "#domain parameters \n",
    "nx = 10\n",
    "ny = 10\n",
    "J = nx * ny \n",
    "dx = dy = dh = lambd_D\n",
    "Lx = (nx-1) * dx \n",
    "Ly = (ny-1) * dy \n",
    "dt = (0.1 * dx) / v_drift \n",
    "np_in = (ny-1) * 15 \n",
    "\n",
    "#specific weight \n",
    "flux = n0 * v_drift * Ly \n",
    "npt = flux * dt #particles created per timestep \n",
    "sw = npt / np_in #specific weight \n",
    "q_mp = 1 #macroparticle charge \n",
    "\n",
    "# particle arrays\n",
    "p_pos = np.zeros([N,2])\n",
    "p_velo = np.zeros([N,2])\n",
    "\n",
    "#q = -1.6 * 10 ** -19\n",
    "\n",
    "#rho = (sw + (q_mp * q)) / (dh ** 2)\n",
    "\n",
    "#print((1-hx) * (1-hy))"
   ]
  },
  {
   "cell_type": "code",
   "execution_count": 214,
   "metadata": {
    "collapsed": false
   },
   "outputs": [
    {
     "name": "stdout",
     "output_type": "stream",
     "text": [
      "Clocking in at 0.0010259999999995273 seconds\n"
     ]
    }
   ],
   "source": [
    "start = time.clock() # Keeping track of computational time \n",
    "\n",
    "def charge_depo(dh, NP, J):\n",
    "\n",
    "    q = np.zeros((nx, ny))\n",
    "    rho = np.zeros((ny, nx))\n",
    "\n",
    "    for p in range (1, NP): \n",
    "            \n",
    "            fi = (1 + p_pos[p,0]) / (dh) \n",
    "            i = np.floor(fi)\n",
    "            hx = fi - i  \n",
    "            #print(hx)    \n",
    "            \n",
    "            fj = (1 + p_pos[p,1]) / (dh)\n",
    "            j = np.floor(fj)\n",
    "            hy = fj - j \n",
    "            #print(1. - int(hy))            \n",
    "            \n",
    "            \n",
    "            q[i,j] = q[i,j] + (1-hx) * (1-hy)\n",
    "            q[i+1, j] = q[i+1, j] + hx * (1-hy)\n",
    "            q[i, j+1] = q[i, j+1] + (1-hx) * hy \n",
    "            q[i+1, j+1] = q[i+1, j+1] + hx * hy \n",
    "            \n",
    "            \n",
    "            rho = (sw + q_mp * q) / (dh * dh)\n",
    "                \n",
    "            rho[0,:] = 2 * rho[0,:]\n",
    "            rho[-1, :] = 2 * rho[-1, :]\n",
    "            rho[:, 0] = 2 * rho[:, 0]\n",
    "            rho[:, -1] = 2 * rho[:, -1]\n",
    "            \n",
    "            rho = rho + (1 * 10 ** 4)\n",
    "            #print(rho)\n",
    "    return q, rho \n",
    "\n",
    "print(\"Clocking in at %s seconds\"  % (time.clock() - start))"
   ]
  },
  {
   "cell_type": "code",
   "execution_count": 215,
   "metadata": {
    "collapsed": false
   },
   "outputs": [
    {
     "name": "stdout",
     "output_type": "stream",
     "text": [
      "Clocking in at 0.0004989999999978068 seconds\n"
     ]
    }
   ],
   "source": [
    "start = time.clock() # Keeping track of computational time \n",
    "\n",
    "#stencil array used in potential solver \n",
    "\n",
    "def stencil_fd(J, dx, dh, nx, ny):\n",
    "    \"\"\"Uses the finite difference scheme\"\"\"\n",
    "    #E = []\n",
    "    \n",
    "    #source = rho\n",
    "    M = np.zeros((J,J))\n",
    "    \n",
    "    for i in range (1, nx-1):\n",
    "        for j in range(1, ny-1): \n",
    "            u = (j-1) * nx + i\n",
    "            M[u, u] = -4. / (dh * dh) \n",
    "            M[u, u-1] = 1. / (dh * dh)\n",
    "            M[u, u+1] = 1. / (dh * dh)\n",
    "            M[u, u-nx] = 1. / (dh * dh)\n",
    "            M[u, u+ (nx-2)] = 1. / (dh * dh)    \n",
    "    \n",
    "    for i in range (0, nx):\n",
    "        u = i+1\n",
    "        M[u,u] = -1. / dh\n",
    "        M[u,u+nx] = 1. / dh \n",
    "        \n",
    "    for i in range (0,nx): \n",
    "        u = (ny-1) * nx  + i \n",
    "        M[u, u-nx] = 1. / dh\n",
    "        M[u, u] = -1. / dh \n",
    "        \n",
    "    for j in range (0, ny): \n",
    "        u = (j-1) * nx + nx \n",
    "        M[u, :] = np.zeros([1, J])\n",
    "        M[u, u-1] = 1. / dh \n",
    "        M[u, u] = -1. / dh \n",
    "        \n",
    "    for j in range(0, ny): \n",
    "        u = (j-1) * nx + 1 \n",
    "        M[u, :] = np.zeros([1, J])\n",
    "        M[u, u] = 1.     \n",
    "        \n",
    "    return M\n",
    "print(\"Clocking in at %s seconds\"  % (time.clock() - start))"
   ]
  },
  {
   "cell_type": "code",
   "execution_count": 216,
   "metadata": {
    "collapsed": false
   },
   "outputs": [
    {
     "name": "stdout",
     "output_type": "stream",
     "text": [
      "Clocking in at 0.0003849999999978593 seconds\n"
     ]
    }
   ],
   "source": [
    "start = time.clock() # Keeping track of computational time \n",
    "\n",
    "def solver_2d(rho, tol, Ti, n0, V_ref, QE, iterations): \n",
    "    'Uses Gauss Sidel method'\n",
    "        \n",
    "    M = stencil_fd(J, dx, dh, nx, ny)\n",
    "    V = np.ones((ny,nx)) #* V_ref\n",
    "    \n",
    "    source = rho\n",
    "    NX = NY = np.size(source,1)\n",
    "    NN = np.size(source)\n",
    "    \n",
    "    b0 = np.reshape(source, (NN,1))\n",
    "    x = np.reshape(V, (np.size(V), 1))\n",
    "    \n",
    "    #print(np.size(x), np.size(b0))\n",
    "    \n",
    "    b = b0 - n0 * np.exp((x-V_ref)/ Te)\n",
    "    b = b * QE / EPS0     \n",
    "    \n",
    "    for it in range (0, iterations):\n",
    "        \n",
    "        b[0:NX] = 0 \n",
    "        b[NN-NX+1 : NN] = 0 \n",
    "        b[NX: NX : NN] = 0 \n",
    "        b[1:NX:NN] = V_ref\n",
    "        \n",
    "        if it % 10 == 0:\n",
    "            R = np.linalg.norm(b-M*x)\n",
    "            #print(b-M*x)\n",
    "            if R <= tol:\n",
    "                print('Solver converged!')\n",
    "                break \n",
    "            #if R > tol: \n",
    "                #print('Solver failed to converge. Check R!')\n",
    "    \n",
    "    V = np.reshape(x, (NX,NY))\n",
    "    return V\n",
    "print(\"Clocking in at %s seconds\"  % (time.clock() - start))"
   ]
  },
  {
   "cell_type": "code",
   "execution_count": 217,
   "metadata": {
    "collapsed": false
   },
   "outputs": [
    {
     "name": "stdout",
     "output_type": "stream",
     "text": [
      "<class 'list'> <class 'float'>\n"
     ]
    },
    {
     "name": "stderr",
     "output_type": "stream",
     "text": [
      "/Users/Isabel/anaconda/lib/python3.5/site-packages/ipykernel/__main__.py:60: VisibleDeprecationWarning: using a non-integer number instead of an integer will result in an error in the future\n",
      "/Users/Isabel/anaconda/lib/python3.5/site-packages/ipykernel/__main__.py:61: VisibleDeprecationWarning: using a non-integer number instead of an integer will result in an error in the future\n",
      "/Users/Isabel/anaconda/lib/python3.5/site-packages/ipykernel/__main__.py:62: VisibleDeprecationWarning: using a non-integer number instead of an integer will result in an error in the future\n",
      "/Users/Isabel/anaconda/lib/python3.5/site-packages/ipykernel/__main__.py:63: VisibleDeprecationWarning: using a non-integer number instead of an integer will result in an error in the future\n"
     ]
    },
    {
     "ename": "TypeError",
     "evalue": "can't multiply sequence by non-int of type 'float'",
     "output_type": "error",
     "traceback": [
      "\u001b[0;31m---------------------------------------------------------------------------\u001b[0m",
      "\u001b[0;31mTypeError\u001b[0m                                 Traceback (most recent call last)",
      "\u001b[0;32m<ipython-input-217-4f1446607c23>\u001b[0m in \u001b[0;36m<module>\u001b[0;34m()\u001b[0m\n\u001b[1;32m     64\u001b[0m         \u001b[0mprint\u001b[0m\u001b[0;34m(\u001b[0m\u001b[0mtype\u001b[0m\u001b[0;34m(\u001b[0m\u001b[0mE\u001b[0m\u001b[0;34m)\u001b[0m\u001b[0;34m,\u001b[0m \u001b[0mtype\u001b[0m\u001b[0;34m(\u001b[0m\u001b[0mQE\u001b[0m\u001b[0;34m)\u001b[0m\u001b[0;34m)\u001b[0m\u001b[0;34m\u001b[0m\u001b[0m\n\u001b[1;32m     65\u001b[0m \u001b[0;34m\u001b[0m\u001b[0m\n\u001b[0;32m---> 66\u001b[0;31m         \u001b[0mF\u001b[0m \u001b[0;34m=\u001b[0m \u001b[0mQE\u001b[0m \u001b[0;34m*\u001b[0m \u001b[0mE\u001b[0m\u001b[0;34m\u001b[0m\u001b[0m\n\u001b[0m\u001b[1;32m     67\u001b[0m         \u001b[0ma\u001b[0m \u001b[0;34m=\u001b[0m \u001b[0mF\u001b[0m\u001b[0;34m/\u001b[0m\u001b[0mMI\u001b[0m\u001b[0;34m\u001b[0m\u001b[0m\n\u001b[1;32m     68\u001b[0m \u001b[0;34m\u001b[0m\u001b[0m\n",
      "\u001b[0;31mTypeError\u001b[0m: can't multiply sequence by non-int of type 'float'"
     ]
    }
   ],
   "source": [
    "NP = 1\n",
    "\n",
    "for it in range (1, iterations):\n",
    "    q, rho = charge_depo(dh, NP, J)\n",
    "\n",
    "    V = solver_2d(rho, tol, Ti, n0, V_ref, QE, iterations)   \n",
    "    \n",
    "     #E field solver\n",
    "    Ex = np.zeros([nx, ny])\n",
    "    Ey = np.zeros([nx, ny])\n",
    "    E = np.zeros([nx, ny])\n",
    "    \n",
    "    #internal nodes \n",
    "    Ex[1:nx-1, :] = V[0:nx-2,:] - V[nx-(nx-2):, :]\n",
    "    Ey[0: ,1:nx-1] = V[:, 0:ny-2] - V[:, 2:ny]\n",
    "\n",
    "    #boundaries\n",
    "    #multiplied by 2 to keep values equivalent to internal nodes\n",
    "    Ex[0,:] = 2* (V[0,:] - V[1,:]) \n",
    "    Ex[nx-1, :] = 2 * (V[nx-2,:] - V[nx-1, :])\n",
    "    \n",
    "    Ey[:, 0] = 2 * (V[:,0] - V[:,1])\n",
    "    Ey[:,ny-1] = 2 * (V[:, ny-2] - V[:, ny-1])\n",
    "    \n",
    "    Ex = np.floor (Ex / (2 * dx) )                                       \n",
    "    Ey = Ey / (2 * dy)\n",
    "    \n",
    "    #generate particles \n",
    "    \n",
    "    if NP + np_in >= N:\n",
    "        np_in = N - NP\n",
    "   \n",
    "    #insert paritcles \n",
    "    #(NOTE: save this for after 2d environment works)\n",
    "    \n",
    "    p_pos[NP:NP+np_in, 1:] = np.random.rand(np_in,1) * dh #x position \n",
    "    p_pos[NP:NP+np_in, 1:] = np.random.rand(np_in,1) * Ly #y position \n",
    "    \n",
    "    #sample Maxwellian in x,y \n",
    "    #add drift velocity in x \n",
    "    \n",
    "    p_velo[NP:NP+np_in, 1:] = v_drift + (-1.5 + np.random.rand(np_in,1) + np.random.rand(np_in,1) \n",
    "                                         + np.random.rand(np_in, 1)) * vth \n",
    "    p_velo[NP:NP+np_in, 1:] = 0.5 * (-1.5 + np.random.rand(np_in,1) + np.random.rand(np_in,1) \n",
    "                                     + np.random.rand(np_in, 1)) * vth\n",
    "    \n",
    "    #move particles \n",
    "    p = 1 \n",
    "    \n",
    "    while p <= NP:\n",
    "            \n",
    "        fi = 1 + p_pos[p,0]/dx \n",
    "        i = np.floor(fi)\n",
    "        hx = fi - i  \n",
    "        \n",
    "        fj = 1+ p_pos[p,1]/dy \n",
    "        j = np.floor(fj)\n",
    "        hy = fj - j \n",
    "            \n",
    "        E = ([Ex[i, j], Ey[i,j]]) * (1-hx) * (1-hy)                                                \n",
    "        E = E + ([Ex[i + 1, j], Ey[i + 1, j]]) * hx * (1-hy)                                                \n",
    "        E = E + ([Ex[i, j + 1], Ey[i + 1, j]]) * (1-hx) * hy                                                \n",
    "        E = E + ([Ex[i + 1, j + 1], Ey[i + 1, j + 1]]) * hx * hy  \n",
    "        \n",
    "        F = QE * E \n",
    "        a = F/MI \n",
    "        \n",
    "        p_pos[p, :] = p_velo[p, :] + a * dt \n",
    "        p_velo[p, :] = p_pos[p, :] + p_velo[p, :] * dt \n",
    "        \n",
    "        if p_pos[p,1] < 0: \n",
    "            p_pos[p,1] = -p_pos[p,1]\n",
    "            p_velo[p,1] = -p_velo[p,1]\n",
    "            \n",
    "        p = p + 1 \n",
    "        print(p_pos, p_velo)"
   ]
  },
  {
   "cell_type": "code",
   "execution_count": 241,
   "metadata": {
    "collapsed": false
   },
   "outputs": [
    {
     "name": "stdout",
     "output_type": "stream",
     "text": [
      "[[0]\n",
      " [0]\n",
      " [0]\n",
      " [0]\n",
      " [0]] [0, -17967.60810524, -17967.60810524, -17967.60810524, 0] 69588.2469628\n"
     ]
    }
   ],
   "source": [
    "a = np.arange(5) - 4\n",
    "b = a.reshape((5, 1)) * 0 \n",
    "c = b * 0.00002 \n",
    "d = [0, -17967.60810524, -17967.60810524, -17967.60810524, 0] \n",
    "R = np.linalg.norm(d-b)\n",
    "\n",
    "print(b, d, R)"
   ]
  },
  {
   "cell_type": "code",
   "execution_count": 229,
   "metadata": {
    "collapsed": false
   },
   "outputs": [
    {
     "ename": "NameError",
     "evalue": "name 'b0' is not defined",
     "output_type": "error",
     "traceback": [
      "\u001b[0;31m---------------------------------------------------------------------------\u001b[0m",
      "\u001b[0;31mNameError\u001b[0m                                 Traceback (most recent call last)",
      "\u001b[0;32m<ipython-input-229-6f45646afd52>\u001b[0m in \u001b[0;36m<module>\u001b[0;34m()\u001b[0m\n\u001b[0;32m----> 1\u001b[0;31m \u001b[0mB\u001b[0m \u001b[0;34m=\u001b[0m \u001b[0mb0\u001b[0m \u001b[0;34m-\u001b[0m \u001b[0mn0\u001b[0m \u001b[0;34m*\u001b[0m \u001b[0mnp\u001b[0m\u001b[0;34m.\u001b[0m\u001b[0mexp\u001b[0m\u001b[0;34m(\u001b[0m\u001b[0;34m(\u001b[0m\u001b[0mx\u001b[0m\u001b[0;34m-\u001b[0m\u001b[0mV_ref\u001b[0m\u001b[0;34m)\u001b[0m\u001b[0;34m/\u001b[0m \u001b[0mTi\u001b[0m\u001b[0;34m)\u001b[0m\u001b[0;34m\u001b[0m\u001b[0m\n\u001b[0m\u001b[1;32m      2\u001b[0m \u001b[0mB\u001b[0m \u001b[0;34m=\u001b[0m \u001b[0;34m(\u001b[0m\u001b[0mb\u001b[0m \u001b[0;34m*\u001b[0m \u001b[0mQE\u001b[0m\u001b[0;34m)\u001b[0m \u001b[0;34m/\u001b[0m \u001b[0mEPS0\u001b[0m     \u001b[0;31m# around -17xxx.xxxxx\u001b[0m\u001b[0;34m\u001b[0m\u001b[0m\n\u001b[1;32m      3\u001b[0m \u001b[0mr\u001b[0m \u001b[0;34m=\u001b[0m \u001b[0mnp\u001b[0m\u001b[0;34m.\u001b[0m\u001b[0mlinalg\u001b[0m\u001b[0;34m.\u001b[0m\u001b[0mnorm\u001b[0m\u001b[0;34m(\u001b[0m\u001b[0mB\u001b[0m\u001b[0;34m)\u001b[0m\u001b[0;34m\u001b[0m\u001b[0m\n",
      "\u001b[0;31mNameError\u001b[0m: name 'b0' is not defined"
     ]
    }
   ],
   "source": [
    "V = np.ones((ny,nx)) #* V_ref\n",
    "    \n",
    "source = rho\n",
    "NX = NY = np.size(source,1)\n",
    "NN = np.size(source)\n",
    "b0 = np.reshape(source, (NN,1))\n",
    "x = np.reshape(V, (np.size(V), 1))\n",
    "\n",
    "\n",
    "B = b0 - n0 * np.exp((x-V_ref)/ Ti)\n",
    "B = (b * QE) / EPS0     # around -17xxx.xxxxx\n",
    "r = np.linalg.norm(B)"
   ]
  },
  {
   "cell_type": "code",
   "execution_count": null,
   "metadata": {
    "collapsed": true
   },
   "outputs": [],
   "source": [
    "#start = time.clock() # Keeping track of computational time \n",
    "#\n",
    "#def E_from_V(rho, J, dx):\n",
    "#    \"\"\"Uses the finite difference scheme\"\"\"\n",
    "#    #E = []\n",
    "#    source = rho[0:J-1]*dx**2\n",
    "#    #M = np.zeros((J-1,J-1))\n",
    "#    \n",
    "#    M = np.zeros((J,J))\n",
    "#    \n",
    "#    for i in range (1, nx-1):\n",
    "#        for j in range(1, ny-1): \n",
    "#            u = (j-1) * nx + i\n",
    "#            M[u, u] = -4. / (dh * dh) \n",
    "#            M[u, u-1] = 1. / (dh * dh)\n",
    "#            M[u, u+1] = 1. / (dh * dh)\n",
    "#            M[u, u-nx] = 1. / (dh * dh)\n",
    "#            M[u, u+ (nx-2)] = 1. / (dh * dh)    \n",
    "#    \n",
    "#    for i in range (0, nx):\n",
    "#        u = i+1\n",
    "#        M[u,u] = -1. / dh\n",
    "#        M[u,u+nx] = 1. / dh \n",
    "#        \n",
    "#    for i in range (0,nx): \n",
    "#        u = (ny-1) * nx  + i \n",
    "#        M[u, u-nx] = 1. / dh\n",
    "#        M[u, u] = -1. / dh \n",
    "#        \n",
    "#    for j in range (0, ny): \n",
    "#        u = (j-1) * nx + nx \n",
    "#        M[u, :] = np.zeros([1, J])\n",
    "#        M[u, u-1] = 1. / dh \n",
    "#        M[u, u] = -1. / dh \n",
    "#        \n",
    "#    for j in range(0, ny): \n",
    "#        u = (j-1) * nx + 1 \n",
    "#        M[u, :] = np.zeros([1, J])\n",
    "#        M[u, u] = 1.     \n",
    "#\n",
    "#    for i in range(0, J-1):\n",
    "#        for j in range(0, J-1):\n",
    "#            if i == j: \n",
    "#                M[i,j] = 2.\n",
    "#            if i == j-1:\n",
    "#                M[i,j] = -1.\n",
    "#            if i == j+1: \n",
    "#                M[i,j] = -1.\n",
    "#                \n",
    "#    M[0, J-2] = -1.\n",
    "#    M[J-2, 0] = -1.\n",
    "#        \n",
    "#    V = np.linalg.solve(M, source)\n",
    "#        \n",
    "#    E = np.zeros((J,2))\n",
    "#    \n",
    "#    for i in range (1,J-2): \n",
    "#        E[i] = (V[i+1] - V[i-1]) / 2./dx\n",
    "#    E[J-2] = (V[0] - V[J-3]) / 2./dx\n",
    "#    E[0] = (V[1] - V[J-2]) / 2./dx\n",
    "#    E[J-1] = E[0]\n",
    "#    E = -E\n",
    "#    #E = np.append(i)        \n",
    "#    return E\n",
    "#\n",
    "#\n",
    "#print(\"Clocking in at %s seconds\"  % (time.clock() - start))"
   ]
  }
 ],
 "metadata": {
  "anaconda-cloud": {},
  "kernelspec": {
   "display_name": "Python [conda root]",
   "language": "python",
   "name": "conda-root-py"
  },
  "language_info": {
   "codemirror_mode": {
    "name": "ipython",
    "version": 3
   },
   "file_extension": ".py",
   "mimetype": "text/x-python",
   "name": "python",
   "nbconvert_exporter": "python",
   "pygments_lexer": "ipython3",
   "version": "3.5.2"
  }
 },
 "nbformat": 4,
 "nbformat_minor": 1
}
