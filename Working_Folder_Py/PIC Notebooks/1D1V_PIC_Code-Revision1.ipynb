{
 "cells": [
  {
   "cell_type": "markdown",
   "metadata": {},
   "source": [
    "# 1D1V PIC Code \n",
    "\n",
    "Isa: \n",
    "\n",
    "-GOAL: ION FLOW AROUND CHARGED DUST PARTICLE \n",
    "- Using an electrostatic, non-relativistic plasma \n",
    "- Periodic boundaries\n",
    "    - will eventually want to implement an RF-driven system \n",
    "- **Focus:** \n",
    "    - writing readable code \n",
    "    - adding theory/commentary/figures where possible \n",
    "    - speed up the process!\n",
    "    - Upload to Git!\n",
    "    \n",
    "    \n",
    "04/19 \n",
    "\n",
    "- Why do we get 0's? \n",
    "- How does the linear algebra function work? \n",
    "- Get rid of the NANs!!"
   ]
  },
  {
   "cell_type": "markdown",
   "metadata": {},
   "source": [
    "### Importing Libraries\n",
    "\n",
    "[Note: make sure you've dowloaded the appropriate modules before calling them in Python!]"
   ]
  },
  {
   "cell_type": "code",
   "execution_count": 7,
   "metadata": {},
   "outputs": [],
   "source": [
    "import math\n",
    "import numpy as np\n",
    "import scipy as sp\n",
    "from matplotlib import pyplot as plt \n",
    "import sys, os \n",
    "import time\n",
    "import csv\n",
    "%matplotlib inline"
   ]
  },
  {
   "cell_type": "markdown",
   "metadata": {},
   "source": [
    "### Depositing charge (electrons) \n",
    "\n",
    "Isa: \n",
    "\n",
    "- Create figure to illustrate this point"
   ]
  },
  {
   "cell_type": "code",
   "execution_count": 8,
   "metadata": {},
   "outputs": [
    {
     "name": "stdout",
     "output_type": "stream",
     "text": [
      "Clocking in at 0.0004300000000001525 seconds\n"
     ]
    }
   ],
   "source": [
    "start = time.clock() # Keeping track of computational time \n",
    "\n",
    "def charge_dep(pos, J, dx): #weighting\n",
    "    \"\"\"Takes position, number of gridpoints, and grid spacing as arguments\"\"\"\n",
    "    \"\"\"Generates weights used to determine particle trajectory\"\"\"\n",
    "    \n",
    "    weights = np.zeros((J,1))\n",
    "    \n",
    "    for i in range(0, len(pos)):\n",
    "        v = np.floor(pos[i]/dx)\n",
    "        weights[int(v)] += 1. - (pos[i] / (dx-v))\n",
    "        weights[int(v)+1] +=  (pos[i] / (dx-v))\n",
    "        #print( len(weights))\n",
    "    weights[0] += weights[-1] #Periodic boundary conditions \n",
    "    return weights[0:J-1]\n",
    "\n",
    "print(\"Clocking in at %s seconds\"  % (time.clock() - start))\n",
    "\n",
    "\n",
    "#extra\n",
    "  #need an if statement that checks to see if the particle position is in the last cell \n",
    "                #if v < J-1:"
   ]
  },
  {
   "cell_type": "markdown",
   "metadata": {},
   "source": [
    "### Calculating the Electric Field \n",
    "\n",
    "Isa: \n",
    "\n",
    "-Add theory"
   ]
  },
  {
   "cell_type": "code",
   "execution_count": 9,
   "metadata": {
    "scrolled": true
   },
   "outputs": [
    {
     "name": "stdout",
     "output_type": "stream",
     "text": [
      "Clocking in at 0.000440000000000218 seconds\n"
     ]
    }
   ],
   "source": [
    "start = time.clock() # Keeping track of computational time \n",
    "\n",
    "def E_from_V(rho, J, dx):\n",
    "    \"\"\"Uses the finite difference scheme\"\"\"\n",
    "    #E = []\n",
    "    \n",
    "    source = rho[0:J]*dx**2\n",
    "    M = np.zeros((J-1,J-1))\n",
    "    \n",
    "    for i in range(0, J-1):\n",
    "        for j in range(0, J-1):\n",
    "            if i == j: \n",
    "                M[i,j] = 2.\n",
    "            if i == j-1:\n",
    "                M[i,j] = -1.\n",
    "            if i == j+1: \n",
    "                M[i,j] = -1.\n",
    "                \n",
    "    M[0, J-2] = -1.\n",
    "    M[J-2, 0] = -1.\n",
    "        \n",
    "    V = np.linalg.solve(M, source)\n",
    "        \n",
    "    E = np.zeros((J,1))\n",
    "    \n",
    "    for i in range (1,J-2): \n",
    "        E[i] = (V[i+1] - V[i-1]) / 2./dx\n",
    "    E[J-2] = (V[0] - V[J-3]) / 2./dx\n",
    "    E[0] = (V[1] - V[J-2]) / 2./dx\n",
    "    E[J-1] = E[0]\n",
    "    E = -E\n",
    "    #print(E)        \n",
    "    return E\n",
    "\n",
    "\n",
    "print(\"Clocking in at %s seconds\"  % (time.clock() - start))"
   ]
  },
  {
   "cell_type": "markdown",
   "metadata": {},
   "source": [
    "### Velocity pusher "
   ]
  },
  {
   "cell_type": "markdown",
   "metadata": {},
   "source": [
    "Need stuff on this"
   ]
  },
  {
   "cell_type": "code",
   "execution_count": 10,
   "metadata": {},
   "outputs": [
    {
     "name": "stdout",
     "output_type": "stream",
     "text": [
      "Clocking in at 0.00030799999999997496 seconds\n"
     ]
    }
   ],
   "source": [
    "start = time.clock() \n",
    "\n",
    "\n",
    "def v_push(p_pos, p_velo, E, dx, dt): \n",
    "    for i in range(0, len(p_velo)):\n",
    "        v = np.floor(p_pos[i]/dx)\n",
    "        w1 = 1 - (p_pos[i]/dx-v)\n",
    "        w2 = 1 - w1\n",
    "        p_velo[i] += MI * (w1 * E[int(v)] + w2 * E[int(v) + 1]) * dt\n",
    "    \n",
    "    #return p_velo\n",
    "\n",
    "print(\"Clocking in at %s seconds\"  % (time.clock() - start))"
   ]
  },
  {
   "cell_type": "markdown",
   "metadata": {},
   "source": [
    "### Particle pusher"
   ]
  },
  {
   "cell_type": "markdown",
   "metadata": {},
   "source": [
    "Need stuff on this too \n",
    "\n",
    "- need to input directions for particles in contact with our 1d dust particle"
   ]
  },
  {
   "cell_type": "code",
   "execution_count": 11,
   "metadata": {},
   "outputs": [
    {
     "name": "stdout",
     "output_type": "stream",
     "text": [
      "Clocking in at 0.00023300000000014975 seconds\n"
     ]
    }
   ],
   "source": [
    "start = time.clock() \n",
    "\n",
    "def p_push(p_pos, p_velo, dt, L):\n",
    "    for i in range(0, len(p_pos)):\n",
    "\n",
    "        p_pos[i] += p_velo[i] * dt\n",
    "\n",
    "        if p_pos[i] >= L: \n",
    "            p_pos[i] -= L \n",
    "\n",
    "        if p_pos[i] < 0: \n",
    "            p_pos[i] += L \n",
    "\n",
    "    return p_pos\n",
    "    \n",
    "print(\"Clocking in at %s seconds\"  % (time.clock() - start))\n"
   ]
  },
  {
   "cell_type": "markdown",
   "metadata": {},
   "source": [
    "### Inputs "
   ]
  },
  {
   "cell_type": "markdown",
   "metadata": {},
   "source": [
    "[Describe the problem here]"
   ]
  },
  {
   "cell_type": "code",
   "execution_count": 12,
   "metadata": {},
   "outputs": [
    {
     "name": "stdout",
     "output_type": "stream",
     "text": [
      "0.00743259347017 0.1 100 0.0 6.644e-26\n",
      "<class 'numpy.float64'>\n"
     ]
    }
   ],
   "source": [
    "# constants \n",
    "EPS0 = 8.85 * 10 ** -12\n",
    "QE = 1.602 * 10 ** -19 \n",
    "K = 1.381 * 10 ** -23 \n",
    "AMU = 1.661 * 10 ** -27\n",
    "MI = 40 * AMU #mass of an Ar+ ion \n",
    "\n",
    "#simulation inputs \n",
    "n0 = 1 * 10 ** 12 \n",
    "V_ref = 0 #reference potential \n",
    "Te = 1  #electron temperature in eV \n",
    "Ti = 0.1 #ion temperature in eV\n",
    "V_d = -5.1 #dust potential (use values from lit)\n",
    "iterations = 2000\n",
    "\n",
    "v_drift = 7000\n",
    "\n",
    "\n",
    "#plasma parameters \n",
    "lambd_D = np.sqrt( EPS0 * Te /(n0 * QE) )\n",
    "vth_0 = np.sqrt((2 * QE * Ti) / MI)\n",
    "v0 = 0.2 #stream velocity \n",
    "#vth_0 = 0 #thermal speed \n",
    "\n",
    "\n",
    "#domain parameters \n",
    "J = 100 # number of grid cells (1000 seems to produce the best results)\n",
    "dx = lambd_D\n",
    "L =  np.floor(J * dx) \n",
    "dt = 0.1 # 0.1 * dx /v_drift \n",
    "np_in = (J-1) * 10 \n",
    "\n",
    "#specific weight \n",
    "flux = n0 * v_drift * L \n",
    "npt = flux * dt #particles created per timestep \n",
    "sw = npt/np_in #specific weight \n",
    "q_mp = 1 #macroparticle charge \n",
    "N = 20000 #max particles \n",
    "\n",
    "\n",
    "## MISC INPUTS \n",
    "# Perturbation\n",
    "xp1 = 0.1\n",
    "vp1 = 0.1\n",
    "mode = 1\n",
    "#wp = 1 #plasma frequency \n",
    "#QM = -1 #charge-to-mass ratio \n",
    "\n",
    "#Q = wp**2/(QM*(N/L)) #charge of individual particle\n",
    "#rho_back = -QE*(N/L) # background (neutrals)\n",
    "\n",
    "print(dx, dt, J, L, MI)\n",
    "print(type(dx))"
   ]
  },
  {
   "cell_type": "markdown",
   "metadata": {},
   "source": [
    "### Misc. inputs "
   ]
  },
  {
   "cell_type": "code",
   "execution_count": 13,
   "metadata": {
    "collapsed": true
   },
   "outputs": [],
   "source": [
    "\n",
    "## Perturbation\n",
    "#xp1 = 0.1\n",
    "#vp1 = 0.1\n",
    "#mode = 1\n",
    "\n",
    "\n",
    "#wp = 1 #plasma frequency \n",
    "#QM = -1 #charge-to-mass ratio \n",
    "#\n",
    "#Q = wp**2/(QM*(N/L)) #charge of individual particle\n",
    "#rho_back = -Q*(N/L) # background (ions)"
   ]
  },
  {
   "cell_type": "markdown",
   "metadata": {},
   "source": [
    "### Initialize\n",
    "\n",
    "The test problem used to check the validity of this code is the classic two-stream instability. Electrons are split into two identical streams traveling in opposite directions.  "
   ]
  },
  {
   "cell_type": "code",
   "execution_count": 14,
   "metadata": {},
   "outputs": [
    {
     "name": "stdout",
     "output_type": "stream",
     "text": [
      "Clocking in at 0.1423829999999997 seconds\n"
     ]
    },
    {
     "name": "stderr",
     "output_type": "stream",
     "text": [
      "/Users/Isabel/anaconda/lib/python3.5/site-packages/ipykernel/__main__.py:8: RuntimeWarning: invalid value encountered in true_divide\n",
      "/Users/Isabel/anaconda/lib/python3.5/site-packages/ipykernel/__main__.py:9: RuntimeWarning: invalid value encountered in true_divide\n",
      "/Users/Isabel/anaconda/lib/python3.5/site-packages/ipykernel/__main__.py:12: RuntimeWarning: invalid value encountered in double_scalars\n"
     ]
    }
   ],
   "source": [
    "start = time.clock() \n",
    "\n",
    "# initialize particles (ions)\n",
    "p_pos = np.linspace(0, L, N+1)[0:-1]\n",
    "p_velo = vth_0 * np.random.standard_normal((N))\n",
    "p_velo[range(0,N-1,2)] = v0\n",
    "p_velo[range(1,N,2)] = -v0\n",
    "p_velo = np.divide( (p_velo+vp1*np.sin(2.*np.pi*p_pos/L*mode) ), \n",
    "                  ( 1.+p_velo*vp1*np.sin(2.*np.pi*p_pos/L*mode)) )\n",
    "\n",
    "for i in range(0,N):\n",
    "    p_pos[i] += xp1*(L/N)*np.sin(2.*np.pi*p_pos[i]/L*mode);\n",
    "    if p_pos[i] >= L:\n",
    "        p_pos[i] -= L\n",
    "    if p_pos[i] < 0:\n",
    "            p_pos[i] += L\n",
    "            \n",
    "print(\"Clocking in at %s seconds\"  % (time.clock() - start))"
   ]
  },
  {
   "cell_type": "markdown",
   "metadata": {},
   "source": [
    "### Main cycle "
   ]
  },
  {
   "cell_type": "code",
   "execution_count": 15,
   "metadata": {
    "scrolled": false
   },
   "outputs": [
    {
     "ename": "ValueError",
     "evalue": "cannot convert float NaN to integer",
     "output_type": "error",
     "traceback": [
      "\u001b[0;31m---------------------------------------------------------------------------\u001b[0m",
      "\u001b[0;31mValueError\u001b[0m                                Traceback (most recent call last)",
      "\u001b[0;32m<ipython-input-15-d8de0424ec87>\u001b[0m in \u001b[0;36m<module>\u001b[0;34m()\u001b[0m\n\u001b[1;32m      7\u001b[0m \u001b[0;32mfor\u001b[0m \u001b[0mcount\u001b[0m \u001b[0;32min\u001b[0m \u001b[0mrange\u001b[0m\u001b[0;34m(\u001b[0m\u001b[0;36m0\u001b[0m\u001b[0;34m,\u001b[0m \u001b[0miterations\u001b[0m\u001b[0;34m)\u001b[0m\u001b[0;34m:\u001b[0m\u001b[0;34m\u001b[0m\u001b[0m\n\u001b[1;32m      8\u001b[0m \u001b[0;34m\u001b[0m\u001b[0m\n\u001b[0;32m----> 9\u001b[0;31m     \u001b[0mrho\u001b[0m \u001b[0;34m=\u001b[0m \u001b[0mcharge_dep\u001b[0m\u001b[0;34m(\u001b[0m\u001b[0mp_pos\u001b[0m\u001b[0;34m,\u001b[0m \u001b[0mJ\u001b[0m\u001b[0;34m,\u001b[0m \u001b[0mdx\u001b[0m\u001b[0;34m)\u001b[0m\u001b[0;34m\u001b[0m\u001b[0m\n\u001b[0m\u001b[1;32m     10\u001b[0m     \u001b[0mrho\u001b[0m \u001b[0;34m=\u001b[0m \u001b[0mQE\u001b[0m\u001b[0;34m/\u001b[0m\u001b[0;34m(\u001b[0m\u001b[0mdx\u001b[0m \u001b[0;34m*\u001b[0m \u001b[0mrho\u001b[0m\u001b[0;34m)\u001b[0m \u001b[0;31m# + rho_back\u001b[0m\u001b[0;34m\u001b[0m\u001b[0m\n\u001b[1;32m     11\u001b[0m     \u001b[0;31m#print(len(rho), len(p_pos))\u001b[0m\u001b[0;34m\u001b[0m\u001b[0;34m\u001b[0m\u001b[0m\n",
      "\u001b[0;32m<ipython-input-8-7382528cf504>\u001b[0m in \u001b[0;36mcharge_dep\u001b[0;34m(pos, J, dx)\u001b[0m\n\u001b[1;32m      9\u001b[0m     \u001b[0;32mfor\u001b[0m \u001b[0mi\u001b[0m \u001b[0;32min\u001b[0m \u001b[0mrange\u001b[0m\u001b[0;34m(\u001b[0m\u001b[0;36m0\u001b[0m\u001b[0;34m,\u001b[0m \u001b[0mlen\u001b[0m\u001b[0;34m(\u001b[0m\u001b[0mpos\u001b[0m\u001b[0;34m)\u001b[0m\u001b[0;34m)\u001b[0m\u001b[0;34m:\u001b[0m\u001b[0;34m\u001b[0m\u001b[0m\n\u001b[1;32m     10\u001b[0m         \u001b[0mv\u001b[0m \u001b[0;34m=\u001b[0m \u001b[0mnp\u001b[0m\u001b[0;34m.\u001b[0m\u001b[0mfloor\u001b[0m\u001b[0;34m(\u001b[0m\u001b[0mpos\u001b[0m\u001b[0;34m[\u001b[0m\u001b[0mi\u001b[0m\u001b[0;34m]\u001b[0m\u001b[0;34m/\u001b[0m\u001b[0mdx\u001b[0m\u001b[0;34m)\u001b[0m\u001b[0;34m\u001b[0m\u001b[0m\n\u001b[0;32m---> 11\u001b[0;31m         \u001b[0mweights\u001b[0m\u001b[0;34m[\u001b[0m\u001b[0mint\u001b[0m\u001b[0;34m(\u001b[0m\u001b[0mv\u001b[0m\u001b[0;34m)\u001b[0m\u001b[0;34m]\u001b[0m \u001b[0;34m+=\u001b[0m \u001b[0;36m1.\u001b[0m \u001b[0;34m-\u001b[0m \u001b[0;34m(\u001b[0m\u001b[0mpos\u001b[0m\u001b[0;34m[\u001b[0m\u001b[0mi\u001b[0m\u001b[0;34m]\u001b[0m \u001b[0;34m/\u001b[0m \u001b[0;34m(\u001b[0m\u001b[0mdx\u001b[0m\u001b[0;34m-\u001b[0m\u001b[0mv\u001b[0m\u001b[0;34m)\u001b[0m\u001b[0;34m)\u001b[0m\u001b[0;34m\u001b[0m\u001b[0m\n\u001b[0m\u001b[1;32m     12\u001b[0m         \u001b[0mweights\u001b[0m\u001b[0;34m[\u001b[0m\u001b[0mint\u001b[0m\u001b[0;34m(\u001b[0m\u001b[0mv\u001b[0m\u001b[0;34m)\u001b[0m\u001b[0;34m+\u001b[0m\u001b[0;36m1\u001b[0m\u001b[0;34m]\u001b[0m \u001b[0;34m+=\u001b[0m  \u001b[0;34m(\u001b[0m\u001b[0mpos\u001b[0m\u001b[0;34m[\u001b[0m\u001b[0mi\u001b[0m\u001b[0;34m]\u001b[0m \u001b[0;34m/\u001b[0m \u001b[0;34m(\u001b[0m\u001b[0mdx\u001b[0m\u001b[0;34m-\u001b[0m\u001b[0mv\u001b[0m\u001b[0;34m)\u001b[0m\u001b[0;34m)\u001b[0m\u001b[0;34m\u001b[0m\u001b[0m\n\u001b[1;32m     13\u001b[0m         \u001b[0;31m#print( len(weights))\u001b[0m\u001b[0;34m\u001b[0m\u001b[0;34m\u001b[0m\u001b[0m\n",
      "\u001b[0;31mValueError\u001b[0m: cannot convert float NaN to integer"
     ]
    }
   ],
   "source": [
    "start = time.clock()\n",
    "\n",
    "#main_folder = os.mkdir('pngs/20180417')\n",
    "#png_folder = os.mkdir('pngs/20180418/TestRun_pngs_20180417') \n",
    "##data_folder = os.mkdir('Data/Run_data_20180417')\n",
    "\n",
    "for count in range(0, iterations):\n",
    "    \n",
    "    rho = charge_dep(p_pos, J, dx)\n",
    "    rho = QE/(dx * rho) # + rho_back\n",
    "    #print(len(rho), len(p_pos))\n",
    "    E = E_from_V(rho, J, dx)\n",
    "\n",
    "    p_pos = p_push(p_pos, p_velo, dt , L)\n",
    "    p_velo = v_push(p_pos, p_velo, E, dx, dt)\n",
    "\n",
    "    # Creates a black background for plot\n",
    "    plt.rcParams['axes.facecolor'] = 'black'\n",
    "    \n",
    "    # Will create one plot every n counts \n",
    "    if count%10 == 0 or count == iterations:\n",
    "        fig = plt.figure(1, figsize=(8.0,6.0))\n",
    "        plt.plot(p_pos,p_velo,'m.', ms=1)\n",
    "        plt.title('Two-Stream Instability', fontsize = 16, fontweight = 'bold', color = 'w')\n",
    "        plt.xticks([0, L], color = 'w', fontsize = 18)  # color = 'w'\n",
    "        plt.xlabel('x', fontsize = 18 , color = 'w')\n",
    "        plt.yticks([-2*v0, 0, 2*v0], color = 'w', fontsize = 18)\n",
    "        plt.ylabel('v', fontsize = 18, rotation=0 , color = 'w')\n",
    "        #plt.savefig('pngs/20180226/Run3_pngs_20180226/Frame_{count}.png'. format(count=count), facecolor = 'k', frameon= True )\n",
    "        #plt.show()\n",
    "        plt.close()\n",
    "\n",
    "## Saving data to csv files\n",
    "#pos = p_pos\n",
    "#velo = p_velo\n",
    "#E1 = np.concatenate(E)\n",
    "#rho = np.concatenate(rho)\n",
    "#\n",
    "#np.savetxt(\"Data/Run_data_20180225/Run1_Efield.csv\", E1, delimiter=\",\", \n",
    "#           header = \"E field\", comments='') # , delimiter=\",\"\n",
    "#np.savetxt(\"Data/Run_data_20180225/Run1_rho.csv\", rho, delimiter=\",\", \n",
    "#           header = \"Charge density\", comments='') # , delimiter=\",\"\n",
    "#np.savetxt(\"Data/Run_data_20180225/Run1_pos_velo.csv\", np.column_stack((pos,velo)), \n",
    "#           delimiter=\",\", header = \"position, velocity\", comments='') # , delimiter=\",\"\n",
    "    \n",
    "print(\"Clocking in at %s seconds\"  % (time.clock() - start))"
   ]
  },
  {
   "cell_type": "code",
   "execution_count": null,
   "metadata": {
    "collapsed": true
   },
   "outputs": [],
   "source": []
  },
  {
   "cell_type": "markdown",
   "metadata": {},
   "source": [
    "### Miscellaneous testing"
   ]
  },
  {
   "cell_type": "code",
   "execution_count": null,
   "metadata": {
    "scrolled": true
   },
   "outputs": [],
   "source": [
    "#fig = plt.figure(1, figsize=(10.0,6.0), dpi = 200)\n",
    "#plt.plot(p_pos,p_velo,'m.', ms=1.1)\n",
    "#plt.title('Phase space distribution', fontsize = 16, fontweight = 'bold')\n",
    "#plt.xticks([0, L])  # color = 'w'\n",
    "#plt.xlabel('x', fontsize = 18)\n",
    "#plt.yticks([-2*v0, 0, 2*v0])\n",
    "#plt.ylabel('v', fontsize = 18, rotation=0)\n",
    "#plt.show()\n",
    "\n",
    "#Z = np.linspace(0,1,11)[0:-1]\n",
    "#Z1 = np.linspace(0,1,11)\n",
    "#print(Z1, Z)"
   ]
  },
  {
   "cell_type": "code",
   "execution_count": null,
   "metadata": {
    "collapsed": true
   },
   "outputs": [],
   "source": [
    "  #fig = plt.figure(1, figsize=(8,12))\n",
    "        #fig, axes = plt.subplots(nrows=3, ncols=1)\n",
    "        #plt.tight_layout()\n",
    "        #\n",
    "        #ax1 = plt.plot() #was plt.subplot(311)\n",
    "        #ax1.plot(p_pos,p_velo,'m.', ms=1.1)\n",
    "        #ax1.set_title('Phase space')\n",
    "        #ax1.set_xticks([])\n",
    "        #ax1.set_ylim([2*-v0, 2*v0])\n",
    "        #ax1.set_yticks([2*-v0, 0, 2*v0])\n",
    "        #ax1.plot()\n",
    "        \n",
    "        #ax2 = plt.subplot(312)\n",
    "        #ax2.plot(np.linspace(0,L,len(rho)),np.append(rho[0:-1],rho[0]),'k')\n",
    "        #ax2.set_title('Charge density')\n",
    "        #ax2.set_xticks([])\n",
    "        #ax2.set_yticks([])\n",
    "        #\n",
    "        #ax3 = plt.subplot(313)\n",
    "        #ax3.plot(np.linspace(0, L, len(E)), E, 'k')\n",
    "        #ax3.set_title('Electric field')\n",
    "        #ax3.set_xticks([0, L])\n",
    "        #ax3.set_yticks([])\n",
    "        \n",
    "        #plt.show()\n"
   ]
  },
  {
   "cell_type": "code",
   "execution_count": null,
   "metadata": {},
   "outputs": [],
   "source": [
    "\n",
    "#myData = [[\"p_pos\", \"p_\", \"Grade\"],\n",
    "#          ['Alex', 'Brian', 'A'],\n",
    "#          ['Tom', 'Smith', 'B']]\n",
    "# \n",
    "\n",
    "#with myFile:\n",
    "#    writer = csv.writer(myFile)\n",
    "#    writer.writerows(myData)\n",
    "#     \n",
    "\n",
    "#myFile = open('test_data_1.csv', 'w')\n",
    "#write.table(cbind(st_dev,z_score), file=myFile, row.names= False ,col.names=c('st_dev','z_score'))\n",
    "\n",
    "#with open('test_data_1.csv', 'w') as csvfile:\n",
    "#    fieldnames = ['p_position']\n",
    "#    writer = csv.DictWriter(csvfile, fieldnames=fieldnames, extrasaction='ignore', delimiter = ';')\n",
    "#    writer.writeheader()\n",
    "#    writer.writerow(pos)\n",
    "#"
   ]
  },
  {
   "cell_type": "markdown",
   "metadata": {},
   "source": [
    "### References \n",
    "\n",
    "Marocchino, A. (2012) PIC1D1V [Source Code]. Available at https://github.com/ALaDyn/pyPICu/blob/master/pyPICu.py "
   ]
  }
 ],
 "metadata": {
  "anaconda-cloud": {},
  "kernelspec": {
   "display_name": "Python 2",
   "language": "python",
   "name": "python2"
  },
  "language_info": {
   "codemirror_mode": {
    "name": "ipython",
    "version": 2
   },
   "file_extension": ".py",
   "mimetype": "text/x-python",
   "name": "python",
   "nbconvert_exporter": "python",
   "pygments_lexer": "ipython2",
   "version": "2.7.14"
  }
 },
 "nbformat": 4,
 "nbformat_minor": 1
}
