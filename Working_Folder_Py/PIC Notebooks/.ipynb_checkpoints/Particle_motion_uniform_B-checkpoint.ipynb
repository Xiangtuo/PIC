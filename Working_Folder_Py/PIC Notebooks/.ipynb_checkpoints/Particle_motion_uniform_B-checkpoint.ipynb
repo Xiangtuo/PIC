{
 "cells": [
  {
   "cell_type": "markdown",
   "metadata": {},
   "source": [
    "# Particle motion in a uniform magnetic field"
   ]
  },
  {
   "cell_type": "markdown",
   "metadata": {},
   "source": [
    "### Importing Libraries\n",
    "\n",
    "[Note: make sure you've dowloaded the appropriate modules before calling them in Python!]"
   ]
  },
  {
   "cell_type": "code",
   "execution_count": 50,
   "metadata": {},
   "outputs": [],
   "source": [
    "import numpy as np\n",
    "from matplotlib import pyplot as plt \n",
    "import sys, os \n",
    "import time\n",
    "import csv\n",
    "%matplotlib inline"
   ]
  },
  {
   "cell_type": "markdown",
   "metadata": {},
   "source": [
    "### Define: Magnetic field"
   ]
  },
  {
   "cell_type": "code",
   "execution_count": 2,
   "metadata": {},
   "outputs": [],
   "source": [
    "def B_field(B0):\n",
    "    B = B0 \n",
    "    return B "
   ]
  },
  {
   "cell_type": "markdown",
   "metadata": {},
   "source": [
    "\n",
    "\n",
    "### Acceleration "
   ]
  },
  {
   "cell_type": "code",
   "execution_count": 44,
   "metadata": {},
   "outputs": [],
   "source": [
    "def accel(vx, vy, Omega, B, ts):\n",
    "    for t in range (2, ts-1): \n",
    "        ax[t] = Omega * B * ((vx[t-1]-vx[t])/2)\n",
    "        ay[t] = Omega * B * ((vy[t-1]-vy[t])/2)\n",
    "        az[t] = 0 \n",
    "    return ax, ay, az"
   ]
  },
  {
   "cell_type": "markdown",
   "metadata": {},
   "source": [
    "### Velocity push"
   ]
  },
  {
   "cell_type": "code",
   "execution_count": 61,
   "metadata": {},
   "outputs": [],
   "source": [
    "def v_push(ax, ay, az, vx, vy, vz, dt, ts):\n",
    "    for t in range (2, ts): \n",
    "        vx[t] = vx[t-1] + ax[t] * dt\n",
    "        vy[t] = vy[t-1] + ay[t] * dt\n",
    "        vz[t] = vz[t-1] + az * dt \n",
    "    return vx, vy, vz"
   ]
  },
  {
   "cell_type": "markdown",
   "metadata": {},
   "source": [
    "### Particle push"
   ]
  },
  {
   "cell_type": "code",
   "execution_count": 46,
   "metadata": {},
   "outputs": [],
   "source": [
    "def p_push(vx, vy, vz, dt, ts): \n",
    "    for t in range(2,ts):\n",
    "        x[t] = x[t-1] + vx[t] * dt \n",
    "        y[t] = y[t-1] + vy[t] * dt \n",
    "        z[t] = z[t-1] + vz[t] * dt \n",
    "    return x, y, z"
   ]
  },
  {
   "cell_type": "markdown",
   "metadata": {},
   "source": [
    "### Inputs "
   ]
  },
  {
   "cell_type": "code",
   "execution_count": 57,
   "metadata": {},
   "outputs": [],
   "source": [
    "# constants \n",
    "QE = 4.803e-10 # electron charge [statC] \n",
    "MP = 1.67e30 # proton mass [g] \n",
    "C = 2.998e10 # speed of light [cm/s]\n",
    "\n",
    "#simulation inputs \n",
    "B0 = 1e-6 # [G] \n",
    "Omega = (QE * B0) / (C * MP) # cyclotron frequency\n",
    "T = 0.026 # eV \n",
    "vth = np.sqrt((2 * T) / MP)\n",
    "v0x = vth \n",
    "v0y = vth\n",
    "v0z = vth \n",
    "x0 = 0\n",
    "y0 = 0 \n",
    "z0 = 0\n",
    "dt = 0.01\n",
    "ts = 10\n",
    "NP = 1 # number of particles"
   ]
  },
  {
   "cell_type": "markdown",
   "metadata": {},
   "source": [
    "### Initialize Arrays "
   ]
  },
  {
   "cell_type": "code",
   "execution_count": 43,
   "metadata": {},
   "outputs": [],
   "source": [
    "vx = np.zeros((ts,1))\n",
    "vy = np.zeros((ts,1))\n",
    "vz = np.zeros((ts,1))\n",
    "v = np.zeros((ts,1))\n",
    "x = np.zeros((ts,1))\n",
    "y = np.zeros((ts,1))\n",
    "z = np.zeros((ts,1))\n",
    "ax = np.zeros((ts,1))\n",
    "ay = np.zeros((ts,1))\n",
    "az = np.zeros((ts,1))"
   ]
  },
  {
   "cell_type": "markdown",
   "metadata": {},
   "source": [
    "### Initial conditions"
   ]
  },
  {
   "cell_type": "code",
   "execution_count": 52,
   "metadata": {},
   "outputs": [
    {
     "name": "stdout",
     "output_type": "stream",
     "text": [
      "[[0.00000000e+00]\n",
      " [1.76458847e-18]\n",
      " [0.00000000e+00]\n",
      " [0.00000000e+00]\n",
      " [0.00000000e+00]\n",
      " [0.00000000e+00]\n",
      " [0.00000000e+00]\n",
      " [0.00000000e+00]\n",
      " [0.00000000e+00]\n",
      " [0.00000000e+00]]\n"
     ]
    }
   ],
   "source": [
    "vx[0] = v0x\n",
    "vy[0] = v0y\n",
    "vz[0] = v0z\n",
    "\n",
    "x[0] = x0\n",
    "y[0] = y0\n",
    "z[0] = z0\n",
    "\n",
    "x[1] = x[0] + (vx[0] / Omega) * np.sin(Omega * dt) \n",
    "y[1] = y[0] + (vy[0] / Omega) * np.cos(Omega * dt) \n",
    "z[1] = z[0] + vz[0] * dt\n",
    "\n",
    "ax[0] = Omega * B0 * v0x \n",
    "ay[0] = Omega * B0 * v0y  \n",
    "\n",
    "vx[1] = v0x + ax[0] * dt\n",
    "vy[1] = v0y + ay[0] * dt \n",
    "vz[1] = v0z \n",
    "\n",
    "print(x)"
   ]
  },
  {
   "cell_type": "markdown",
   "metadata": {},
   "source": [
    "### Main cycle "
   ]
  },
  {
   "cell_type": "code",
   "execution_count": 62,
   "metadata": {
    "scrolled": false
   },
   "outputs": [
    {
     "ename": "ValueError",
     "evalue": "could not broadcast input array from shape (10,1) into shape (1)",
     "output_type": "error",
     "traceback": [
      "\u001b[0;31m---------------------------------------------------------------------------\u001b[0m",
      "\u001b[0;31mValueError\u001b[0m                                Traceback (most recent call last)",
      "\u001b[0;32m<ipython-input-62-0899ea7c4ce9>\u001b[0m in \u001b[0;36m<module>\u001b[0;34m()\u001b[0m\n\u001b[1;32m      9\u001b[0m \u001b[0;32mfor\u001b[0m \u001b[0mp\u001b[0m \u001b[0;32min\u001b[0m \u001b[0mrange\u001b[0m\u001b[0;34m(\u001b[0m\u001b[0mNP\u001b[0m\u001b[0;34m)\u001b[0m\u001b[0;34m:\u001b[0m\u001b[0;34m\u001b[0m\u001b[0m\n\u001b[1;32m     10\u001b[0m     \u001b[0max\u001b[0m\u001b[0;34m,\u001b[0m \u001b[0may\u001b[0m\u001b[0;34m,\u001b[0m \u001b[0maz\u001b[0m \u001b[0;34m=\u001b[0m \u001b[0maccel\u001b[0m\u001b[0;34m(\u001b[0m\u001b[0mvx\u001b[0m\u001b[0;34m,\u001b[0m \u001b[0mvy\u001b[0m\u001b[0;34m,\u001b[0m \u001b[0mOmega\u001b[0m\u001b[0;34m,\u001b[0m \u001b[0mB\u001b[0m\u001b[0;34m,\u001b[0m \u001b[0mts\u001b[0m\u001b[0;34m)\u001b[0m\u001b[0;34m\u001b[0m\u001b[0m\n\u001b[0;32m---> 11\u001b[0;31m     \u001b[0mvx\u001b[0m\u001b[0;34m,\u001b[0m \u001b[0mvy\u001b[0m\u001b[0;34m,\u001b[0m \u001b[0mvz\u001b[0m \u001b[0;34m=\u001b[0m \u001b[0mv_push\u001b[0m\u001b[0;34m(\u001b[0m\u001b[0max\u001b[0m\u001b[0;34m,\u001b[0m \u001b[0may\u001b[0m\u001b[0;34m,\u001b[0m \u001b[0maz\u001b[0m\u001b[0;34m,\u001b[0m \u001b[0mvx\u001b[0m\u001b[0;34m,\u001b[0m \u001b[0mvy\u001b[0m\u001b[0;34m,\u001b[0m \u001b[0mvz\u001b[0m\u001b[0;34m,\u001b[0m \u001b[0mdt\u001b[0m\u001b[0;34m,\u001b[0m \u001b[0mts\u001b[0m\u001b[0;34m)\u001b[0m\u001b[0;34m\u001b[0m\u001b[0m\n\u001b[0m\u001b[1;32m     12\u001b[0m     \u001b[0mx\u001b[0m\u001b[0;34m,\u001b[0m \u001b[0my\u001b[0m\u001b[0;34m,\u001b[0m \u001b[0mz\u001b[0m \u001b[0;34m=\u001b[0m \u001b[0mp_push\u001b[0m\u001b[0;34m(\u001b[0m\u001b[0mvx\u001b[0m\u001b[0;34m,\u001b[0m \u001b[0mvy\u001b[0m\u001b[0;34m,\u001b[0m \u001b[0mvz\u001b[0m\u001b[0;34m,\u001b[0m \u001b[0mdt\u001b[0m\u001b[0;34m,\u001b[0m \u001b[0mts\u001b[0m\u001b[0;34m)\u001b[0m\u001b[0;34m\u001b[0m\u001b[0m\n\u001b[1;32m     13\u001b[0m     \u001b[0;31m#ay = accel(vx, vy, Omega, B, ts)\u001b[0m\u001b[0;34m\u001b[0m\u001b[0;34m\u001b[0m\u001b[0m\n",
      "\u001b[0;32m<ipython-input-61-7770b628bc4b>\u001b[0m in \u001b[0;36mv_push\u001b[0;34m(ax, ay, az, vx, vy, vz, dt, ts)\u001b[0m\n\u001b[1;32m      3\u001b[0m         \u001b[0mvx\u001b[0m\u001b[0;34m[\u001b[0m\u001b[0mt\u001b[0m\u001b[0;34m]\u001b[0m \u001b[0;34m=\u001b[0m \u001b[0mvx\u001b[0m\u001b[0;34m[\u001b[0m\u001b[0mt\u001b[0m\u001b[0;34m-\u001b[0m\u001b[0;36m1\u001b[0m\u001b[0;34m]\u001b[0m \u001b[0;34m+\u001b[0m \u001b[0max\u001b[0m\u001b[0;34m[\u001b[0m\u001b[0mt\u001b[0m\u001b[0;34m]\u001b[0m \u001b[0;34m*\u001b[0m \u001b[0mdt\u001b[0m\u001b[0;34m\u001b[0m\u001b[0m\n\u001b[1;32m      4\u001b[0m         \u001b[0mvy\u001b[0m\u001b[0;34m[\u001b[0m\u001b[0mt\u001b[0m\u001b[0;34m]\u001b[0m \u001b[0;34m=\u001b[0m \u001b[0mvy\u001b[0m\u001b[0;34m[\u001b[0m\u001b[0mt\u001b[0m\u001b[0;34m-\u001b[0m\u001b[0;36m1\u001b[0m\u001b[0;34m]\u001b[0m \u001b[0;34m+\u001b[0m \u001b[0may\u001b[0m\u001b[0;34m[\u001b[0m\u001b[0mt\u001b[0m\u001b[0;34m]\u001b[0m \u001b[0;34m*\u001b[0m \u001b[0mdt\u001b[0m\u001b[0;34m\u001b[0m\u001b[0m\n\u001b[0;32m----> 5\u001b[0;31m         \u001b[0mvz\u001b[0m\u001b[0;34m[\u001b[0m\u001b[0mt\u001b[0m\u001b[0;34m]\u001b[0m \u001b[0;34m=\u001b[0m \u001b[0mvz\u001b[0m\u001b[0;34m[\u001b[0m\u001b[0mt\u001b[0m\u001b[0;34m-\u001b[0m\u001b[0;36m1\u001b[0m\u001b[0;34m]\u001b[0m \u001b[0;34m+\u001b[0m \u001b[0maz\u001b[0m \u001b[0;34m*\u001b[0m \u001b[0mdt\u001b[0m\u001b[0;34m\u001b[0m\u001b[0m\n\u001b[0m\u001b[1;32m      6\u001b[0m     \u001b[0;32mreturn\u001b[0m \u001b[0mvx\u001b[0m\u001b[0;34m,\u001b[0m \u001b[0mvy\u001b[0m\u001b[0;34m,\u001b[0m \u001b[0mvz\u001b[0m\u001b[0;34m\u001b[0m\u001b[0m\n",
      "\u001b[0;31mValueError\u001b[0m: could not broadcast input array from shape (10,1) into shape (1)"
     ]
    }
   ],
   "source": [
    "start = time.clock()\n",
    "\n",
    "B = B_field(B0)\n",
    "\n",
    "#main_folder = os.mkdir('pngs/20180417')\n",
    "#png_folder = os.mkdir('pngs/20180418/TestRun_pngs_20180417') \n",
    "##data_folder = os.mkdir('Data/Run_data_20180417')\n",
    "\n",
    "for p in range(NP): \n",
    "    ax, ay, az = accel(vx, vy, Omega, B, ts)\n",
    "    vx, vy, vz = v_push(ax, ay, az, vx, vy, vz, dt, ts)\n",
    "    x, y, z = p_push(vx, vy, vz, dt, ts)\n",
    "    #ay = accel(vx, vy, Omega, B, ts)\n",
    "    #az = accel(vx, vy, Omega, B, ts)\n",
    "print x, y, z\n"
   ]
  },
  {
   "cell_type": "code",
   "execution_count": null,
   "metadata": {},
   "outputs": [],
   "source": [
    "#   # Creates a black background for plot\n",
    "#   plt.rcParams['axes.facecolor'] = 'black'\n",
    "#   \n",
    "#   # Will create one plot every n counts \n",
    "#   if count%10 == 0 or count == iterations:\n",
    "#       fig = plt.figure(1, figsize=(8.0,6.0))\n",
    "#       plt.plot(p_pos,p_velo,'m.', ms=1)\n",
    "#       plt.title('Two-Stream Instability', fontsize = 16, fontweight = 'bold', color = 'w')\n",
    "#       plt.xticks([0, L], color = 'w', fontsize = 18)  # color = 'w'\n",
    "#       plt.xlabel('x', fontsize = 18 , color = 'w')\n",
    "#       plt.yticks([-2*v0, 0, 2*v0], color = 'w', fontsize = 18)\n",
    "#       plt.ylabel('v', fontsize = 18, rotation=0 , color = 'w')\n",
    "#       #plt.savefig('pngs/20180226/Run3_pngs_20180226/Frame_{count}.png'. format(count=count), facecolor = 'k', frameon= True )\n",
    "#       #plt.show()\n",
    "#       plt.close()\n",
    "\n",
    "## Saving data to csv files\n",
    "#pos = p_pos\n",
    "#velo = p_velo\n",
    "#E1 = np.concatenate(E)\n",
    "#rho = np.concatenate(rho)\n",
    "#\n",
    "#np.savetxt(\"Data/Run_data_20180225/Run1_Efield.csv\", E1, delimiter=\",\", \n",
    "#           header = \"E field\", comments='') # , delimiter=\",\"\n",
    "#np.savetxt(\"Data/Run_data_20180225/Run1_rho.csv\", rho, delimiter=\",\", \n",
    "#           header = \"Charge density\", comments='') # , delimiter=\",\"\n",
    "#np.savetxt(\"Data/Run_data_20180225/Run1_pos_velo.csv\", np.column_stack((pos,velo)), \n",
    "#           delimiter=\",\", header = \"position, velocity\", comments='') # , delimiter=\",\"\n",
    "    \n",
    "print(\"Clocking in at %s seconds\"  % (time.clock() - start))"
   ]
  },
  {
   "cell_type": "code",
   "execution_count": null,
   "metadata": {},
   "outputs": [],
   "source": []
  }
 ],
 "metadata": {
  "anaconda-cloud": {},
  "kernelspec": {
   "display_name": "Python 2",
   "language": "python",
   "name": "python2"
  },
  "language_info": {
   "codemirror_mode": {
    "name": "ipython",
    "version": 2
   },
   "file_extension": ".py",
   "mimetype": "text/x-python",
   "name": "python",
   "nbconvert_exporter": "python",
   "pygments_lexer": "ipython2",
   "version": "2.7.14"
  }
 },
 "nbformat": 4,
 "nbformat_minor": 1
}
